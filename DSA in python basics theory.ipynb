{
 "cells": [
  {
   "cell_type": "markdown",
   "metadata": {},
   "source": [
    "## DSA crash course in python"
   ]
  },
  {
   "cell_type": "markdown",
   "metadata": {},
   "source": [
    "##### ------------------------------------------------------------"
   ]
  },
  {
   "cell_type": "markdown",
   "metadata": {},
   "source": [
    "#### Data structures in python\n",
    "\n",
    "Data structures are colection of data.\n",
    "They are used to organize, store and manage data for efficient access and modification.\n",
    "\n",
    "Types of data structures:\n",
    "\n",
    "- Built-in data structures\n",
    "    - Lists\n",
    "    - Dictionaries\n",
    "    - Tuples\n",
    "    - Sets\n",
    "- User-defined data structures\n",
    "    - Stack \n",
    "    - Queue\n",
    "    - Linked list\n",
    "    - Hashmap\n",
    "    - Tree\n",
    "    - Graph"
   ]
  },
  {
   "cell_type": "markdown",
   "metadata": {},
   "source": [
    "--------------------------------------------------------------------"
   ]
  },
  {
   "cell_type": "markdown",
   "metadata": {},
   "source": [
    "### Built-in data structures"
   ]
  },
  {
   "cell_type": "markdown",
   "metadata": {},
   "source": [
    "#### Lists\n",
    "\n",
    "- Can have heterogenous type of data\n",
    "- Mutable\n",
    "- All the elements inside lists are indexed starting from zero"
   ]
  },
  {
   "cell_type": "code",
   "execution_count": 4,
   "metadata": {},
   "outputs": [
    {
     "name": "stdout",
     "output_type": "stream",
     "text": [
      "The list 'a' :  []\n",
      "The list 'b' :  ['b', 1]\n",
      "The list 'a' after append:  ['a', 'b']\n",
      "The list 'a' after assignment:  ['a', 1]\n",
      "The list 'a' after remove:  ['a']\n"
     ]
    }
   ],
   "source": [
    "# An empty list\n",
    "a = []\n",
    "print(\"The list 'a' : \", a)\n",
    "\n",
    "# Also a list \n",
    "b = [\"b\",1]\n",
    "print(\"The list 'b' : \", b)\n",
    "\n",
    "# Lists are mutable - adding element in list\n",
    "a.append(\"a\")\n",
    "a.append(\"b\")\n",
    "print(\"The list 'a' after append: \", a)\n",
    "a[1] = 1\n",
    "print(\"The list 'a' after assignment: \", a)\n",
    "a.remove(1)\n",
    "print(\"The list 'a' after remove: \", a)"
   ]
  },
  {
   "cell_type": "markdown",
   "metadata": {},
   "source": [
    "#### Tuples\n",
    "\n",
    "- Same as lists but immutable\n",
    "- Faster than lists"
   ]
  },
  {
   "cell_type": "code",
   "execution_count": 5,
   "metadata": {},
   "outputs": [
    {
     "name": "stdout",
     "output_type": "stream",
     "text": [
      "The tuple 'a' : ()\n",
      "The tuple 'b' : ('b', 1)\n"
     ]
    },
    {
     "ename": "TypeError",
     "evalue": "'tuple' object does not support item assignment",
     "output_type": "error",
     "traceback": [
      "\u001b[1;31m---------------------------------------------------------------------------\u001b[0m",
      "\u001b[1;31mTypeError\u001b[0m                                 Traceback (most recent call last)",
      "\u001b[1;32m<ipython-input-5-98a9707570a5>\u001b[0m in \u001b[0;36m<module>\u001b[1;34m\u001b[0m\n\u001b[0;32m      8\u001b[0m \u001b[1;33m\u001b[0m\u001b[0m\n\u001b[0;32m      9\u001b[0m \u001b[1;31m# Tuples are immutable\u001b[0m\u001b[1;33m\u001b[0m\u001b[1;33m\u001b[0m\u001b[1;33m\u001b[0m\u001b[0m\n\u001b[1;32m---> 10\u001b[1;33m \u001b[0mb\u001b[0m\u001b[1;33m[\u001b[0m\u001b[1;36m1\u001b[0m\u001b[1;33m]\u001b[0m \u001b[1;33m=\u001b[0m \u001b[1;34m\"b\"\u001b[0m\u001b[1;33m\u001b[0m\u001b[1;33m\u001b[0m\u001b[0m\n\u001b[0m\u001b[0;32m     11\u001b[0m \u001b[0mprint\u001b[0m\u001b[1;33m(\u001b[0m\u001b[1;34m\"The tuple 'b' after assignment:\"\u001b[0m\u001b[1;33m,\u001b[0m \u001b[0mb\u001b[0m\u001b[1;33m)\u001b[0m\u001b[1;33m\u001b[0m\u001b[1;33m\u001b[0m\u001b[0m\n",
      "\u001b[1;31mTypeError\u001b[0m: 'tuple' object does not support item assignment"
     ]
    }
   ],
   "source": [
    "# An empty tuple\n",
    "a = ()\n",
    "print(\"The tuple 'a' :\", a)\n",
    "\n",
    "# Also a tuple\n",
    "b = (\"b\", 1)\n",
    "print(\"The tuple 'b' :\", b)\n",
    "\n",
    "# Tuples are immutable\n",
    "b[1] = \"b\"\n",
    "print(\"The tuple 'b' after assignment:\", b)"
   ]
  },
  {
   "cell_type": "markdown",
   "metadata": {},
   "source": [
    "#### Dictionaries\n",
    "\n",
    "- Store key value pairs\n",
    "- Mutable"
   ]
  },
  {
   "cell_type": "code",
   "execution_count": 6,
   "metadata": {},
   "outputs": [
    {
     "name": "stdout",
     "output_type": "stream",
     "text": [
      "The dictionary 'a' : {}\n",
      "The dictionary 'b' : {1: 'A', 'b': 2}\n",
      "The tuple 'b' after assignment: {1: 'B', 'b': 2}\n"
     ]
    }
   ],
   "source": [
    "# An empty dictionary\n",
    "a = {}\n",
    "print(\"The dictionary 'a' :\", a)\n",
    "\n",
    "# Also a dictionary\n",
    "b = {1:\"A\",\"b\":2}\n",
    "print(\"The dictionary 'b' :\", b)\n",
    "\n",
    "# Dcitionaries are mutable\n",
    "b[1] = \"B\"\n",
    "print(\"The dictionary 'b' after assignment:\", b)"
   ]
  },
  {
   "cell_type": "markdown",
   "metadata": {},
   "source": [
    "#### Sets\n",
    "\n",
    "- Un-ordered collection of unique elements i.e. no indexing and even if elements repeat they will be only entered once\n",
    "- Sets are mutable"
   ]
  },
  {
   "cell_type": "code",
   "execution_count": 12,
   "metadata": {},
   "outputs": [
    {
     "name": "stdout",
     "output_type": "stream",
     "text": [
      "'a' is  : <class 'dict'>\n",
      "The set 'b' : {1, 2, 'a'}\n",
      "The set 'b' after add:  {1, 2, 3, 'a'}\n",
      "The set 'b' after remove:  {2, 3, 'a'}\n"
     ]
    },
    {
     "ename": "TypeError",
     "evalue": "'set' object is not subscriptable",
     "output_type": "error",
     "traceback": [
      "\u001b[1;31m---------------------------------------------------------------------------\u001b[0m",
      "\u001b[1;31mTypeError\u001b[0m                                 Traceback (most recent call last)",
      "\u001b[1;32m<ipython-input-12-afc0acce6ce0>\u001b[0m in \u001b[0;36m<module>\u001b[1;34m\u001b[0m\n\u001b[0;32m     15\u001b[0m \u001b[1;33m\u001b[0m\u001b[0m\n\u001b[0;32m     16\u001b[0m \u001b[1;31m# No indexing in sets\u001b[0m\u001b[1;33m\u001b[0m\u001b[1;33m\u001b[0m\u001b[1;33m\u001b[0m\u001b[0m\n\u001b[1;32m---> 17\u001b[1;33m \u001b[0mprint\u001b[0m\u001b[1;33m(\u001b[0m\u001b[1;34m\"The set 'b' after assignment:\"\u001b[0m\u001b[1;33m,\u001b[0m \u001b[0mb\u001b[0m\u001b[1;33m[\u001b[0m\u001b[1;36m1\u001b[0m\u001b[1;33m]\u001b[0m\u001b[1;33m)\u001b[0m\u001b[1;33m\u001b[0m\u001b[1;33m\u001b[0m\u001b[0m\n\u001b[0m",
      "\u001b[1;31mTypeError\u001b[0m: 'set' object is not subscriptable"
     ]
    }
   ],
   "source": [
    "# No empty set\n",
    "a = {}\n",
    "print(\"'a' is  :\", type(a))\n",
    "\n",
    "# Also a set\n",
    "b = {1, 2, \"a\"}\n",
    "print(\"The set 'b' :\", b)\n",
    "\n",
    "# Sets are mutable and contains only unique elements\n",
    "b.add(\"a\")\n",
    "b.add(3)\n",
    "print(\"The set 'b' after add: \", b)\n",
    "b.remove(1)\n",
    "print(\"The set 'b' after remove: \", b)\n",
    "\n",
    "# No indexing in sets\n",
    "print(\"The set 'b' after assignment:\", b[1])\n"
   ]
  },
  {
   "cell_type": "markdown",
   "metadata": {},
   "source": [
    "### User defined data structures"
   ]
  },
  {
   "cell_type": "markdown",
   "metadata": {},
   "source": [
    "Before going to user defined data structures it is crucial to understand what are Arrays.\n",
    "\n",
    "- Arrays store homogeneous data\n",
    "- They have indexing to access the elements"
   ]
  },
  {
   "cell_type": "code",
   "execution_count": 19,
   "metadata": {},
   "outputs": [
    {
     "name": "stdout",
     "output_type": "stream",
     "text": [
      "Datatype of a : <class 'array.array'>\n",
      "Array a after append : array('i', [1, 2, 3, 4, 5, 4])\n",
      "Array a after pop : array('i', [1, 2, 3, 4, 4])\n"
     ]
    }
   ],
   "source": [
    "import array as arr\n",
    "list1 = [1,2,3,4,5]\n",
    "a = arr.array(\"i\",list1) # i for integer\n",
    "print(\"Datatype of a :\",type(a))\n",
    "a.append(4)\n",
    "print(\"Array a after append :\", a)\n",
    "a.pop(4)\n",
    "print(\"Array a after pop :\", a)"
   ]
  },
  {
   "cell_type": "markdown",
   "metadata": {},
   "source": [
    "#### Stacks\n",
    "\n",
    "- Linear data structures based on principle of LIFO(Last In First Out) i.e. the data entered last will be first to be accessed\n",
    "- Built using array structures\n",
    "- Have operations like push, pop\n",
    "- Elements are accessed from only one point called top\n",
    "- Applications like recursive programming, reversing words"
   ]
  },
  {
   "cell_type": "code",
   "execution_count": null,
   "metadata": {},
   "outputs": [],
   "source": []
  },
  {
   "cell_type": "markdown",
   "metadata": {},
   "source": [
    "#### Queues\n",
    "\n",
    "- Linear data structures based on principle of FIFO(First In First Out) i.e. the data entered first will be first to be accessed\n",
    "- Built using array structures\n",
    "- Have operations that can be performed from both ends (head-tail or front-back)\n",
    "- The operation of adding and removing from queues is known as enqueue and dequeue\n",
    "- Apllications in like Job scheduling in OS"
   ]
  },
  {
   "cell_type": "code",
   "execution_count": null,
   "metadata": {},
   "outputs": [],
   "source": []
  },
  {
   "cell_type": "markdown",
   "metadata": {},
   "source": [
    "#### Trees\n",
    "\n",
    "- Non linear data structures which has roots and nodes\n",
    "- Root is where data originates and nodes are other data points available \n",
    "- The node that precedes is parent and the node that succeeds is child\n",
    "- The last nodes are called trees\n",
    "- Applications like searching, HTML pages"
   ]
  },
  {
   "cell_type": "code",
   "execution_count": null,
   "metadata": {},
   "outputs": [],
   "source": []
  },
  {
   "cell_type": "markdown",
   "metadata": {},
   "source": [
    "#### Linked Lists\n",
    "\n",
    "- Linear data structures\n",
    "- Not stored consequently but linked with each other using pointers\n",
    "- The node of a linked list is composed of data pointer called the next\n",
    "- Applications like image viewing, music players"
   ]
  },
  {
   "cell_type": "code",
   "execution_count": null,
   "metadata": {},
   "outputs": [],
   "source": []
  },
  {
   "cell_type": "markdown",
   "metadata": {},
   "source": [
    "#### Graphs\n",
    "\n",
    "- Used to store data collections of points called vertices and edges\n",
    "- They can be termed as most accurate representation of real world map\n",
    "- Used to find various cost to distance between various data points called\n",
    "- Applications like google maps, uber to find least distance possible"
   ]
  },
  {
   "cell_type": "code",
   "execution_count": null,
   "metadata": {},
   "outputs": [],
   "source": []
  },
  {
   "cell_type": "markdown",
   "metadata": {},
   "source": [
    "#### Hashmaps\n",
    "\n",
    "- Same as what dictionaries are in python\n",
    "- Applications like phonebooks, populate data according to list"
   ]
  },
  {
   "cell_type": "code",
   "execution_count": null,
   "metadata": {},
   "outputs": [],
   "source": []
  },
  {
   "cell_type": "markdown",
   "metadata": {},
   "source": [
    "##### ------------------------------------------------------------"
   ]
  },
  {
   "cell_type": "markdown",
   "metadata": {},
   "source": [
    "### Algorithms\n",
    "\n",
    "In mathematics and computer science, an algorithm is a finite sequence of well-defined, computer-implementable instructions, typically to solve a class of problems or to perform a computation.(Wikipedia)\n",
    "\n",
    "Algorithms analysis:\n",
    "\n",
    "A priori analysis - Assume all factors to be constant and do not affect implementation to measure complexity before execution\n",
    "A posterior analysis - Actual values like time of execution measured after executiom\n",
    "\n",
    "- Tree traversal algorithms\n",
    "    - In-order\n",
    "    - Post-order\n",
    "    - Pre-order\n",
    "- Sorting algorithms\n",
    "    - Bubble \n",
    "    - Selection\n",
    "    - Insertion\n",
    "    - Merge\n",
    "    - Shell\n",
    "    - Quick\n",
    "    - Counting\n",
    "    - Radix\n",
    "    - Heap\n",
    "    - Bucket\n",
    "- Searching algorithms\n",
    "    - Linear\n",
    "    - Binary\n",
    "    - Ternary"
   ]
  },
  {
   "cell_type": "markdown",
   "metadata": {},
   "source": [
    "################################################"
   ]
  },
  {
   "cell_type": "markdown",
   "metadata": {},
   "source": [
    "For explanation and implementation refer to the dedicated notebooks"
   ]
  }
 ],
 "metadata": {
  "kernelspec": {
   "display_name": "Python 3",
   "language": "python",
   "name": "python3"
  },
  "language_info": {
   "codemirror_mode": {
    "name": "ipython",
    "version": 3
   },
   "file_extension": ".py",
   "mimetype": "text/x-python",
   "name": "python",
   "nbconvert_exporter": "python",
   "pygments_lexer": "ipython3",
   "version": "3.7.6"
  }
 },
 "nbformat": 4,
 "nbformat_minor": 4
}
